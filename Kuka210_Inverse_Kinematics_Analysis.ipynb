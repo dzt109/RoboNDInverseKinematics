{
 "cells": [
  {
   "cell_type": "code",
   "execution_count": 130,
   "metadata": {},
   "outputs": [],
   "source": [
    "from mpmath import *\n",
    "from sympy import sin, cos, atan2, simplify, pi, symbols, sqrt\n",
    "from sympy.matrices import Matrix\n",
    "from numpy import array\n",
    "import numpy as np\n"
   ]
  },
  {
   "cell_type": "code",
   "execution_count": 131,
   "metadata": {
    "collapsed": true
   },
   "outputs": [],
   "source": [
    "def cosine_rule(a,b,c):\n",
    "  cos_C = (a*a + b*b - c*c) / (2*a*b)\n",
    "  sin_C = sqrt(1 - cos_C * cos_C)\n",
    "  return atan2(sin_C, cos_C)\n"
   ]
  },
  {
   "cell_type": "code",
   "execution_count": 132,
   "metadata": {
    "collapsed": true
   },
   "outputs": [],
   "source": [
    "\tq1, q2, q3, q4,q5,q6,q7 = symbols('q1:8')\n",
    "\td1, d2, d3, d4,d5,d6,dG = symbols('d1:8')\n",
    "\ta0, a1, a2, a3, a4, a5, a6 = symbols('a0:7')\n",
    "\talpha0, alpha1, alpha2, alpha3, alpha4, alpha5, alpha6 = symbols('alpha0:7')\n"
   ]
  },
  {
   "cell_type": "code",
   "execution_count": 199,
   "metadata": {
    "collapsed": true
   },
   "outputs": [],
   "source": [
    "\ts = {alpha0: 0,  a0:   0, d1: 0.75, \n",
    "     \t     alpha1: -pi/2,  a1: 0.35, d2: 0,  \n",
    "\t     alpha2: 0,  a2: 1.25, d3: 0,\n",
    "\t     alpha3: -pi/2,  a3:  -0.054, d4: 1.5,\n",
    "\t     alpha4: pi/2, a4:0, d5:0,\n",
    "\t     alpha5:-pi/2, a5:0, d6:0,\n",
    "\t     alpha6:0, a6:0, dG:0.303,\n",
    "\t     q7:0, q2: -pi/2+q2}\n"
   ]
  },
  {
   "cell_type": "code",
   "execution_count": 200,
   "metadata": {},
   "outputs": [],
   "source": [
    "\tT0_1 = Matrix([[             cos(q1),            -sin(q1),            0,              a0],\n",
    "\t               [ sin(q1)*cos(alpha0), cos(q1)*cos(alpha0), -sin(alpha0), -sin(alpha0)*d1],\n",
    "\t               [ sin(q1)*sin(alpha0), cos(q1)*sin(alpha0),  cos(alpha0),  cos(alpha0)*d1],\n",
    "\t               [                   0,                   0,            0,               1]])\n",
    "\tT0_1 = T0_1.subs(s)\n"
   ]
  },
  {
   "cell_type": "code",
   "execution_count": 201,
   "metadata": {},
   "outputs": [],
   "source": [
    "\tT1_2 = Matrix([[             cos(q2),            -sin(q2),            0,              a1],\n",
    "\t               [ sin(q2)*cos(alpha1), cos(q2)*cos(alpha1), -sin(alpha1), -sin(alpha1)*d2],\n",
    "        \t       [ sin(q2)*sin(alpha1), cos(q2)*sin(alpha1),  cos(alpha1),  cos(alpha1)*d2],\n",
    "\t               [                   0,                   0,            0,               1]])\n",
    "\tT1_2 = T1_2.subs(s)\n"
   ]
  },
  {
   "cell_type": "code",
   "execution_count": 202,
   "metadata": {
    "collapsed": true
   },
   "outputs": [],
   "source": [
    "\tT2_3 = Matrix([[             cos(q3),            -sin(q3),            0,              a2],\n",
    "\t\t       [ sin(q3)*cos(alpha2), cos(q3)*cos(alpha2), -sin(alpha2), -sin(alpha2)*d3],\n",
    "\t\t       [ sin(q3)*sin(alpha2), cos(q3)*sin(alpha2),  cos(alpha2),  cos(alpha2)*d3],\n",
    "\t\t       [                   0,                   0,            0,               1]])\n",
    "\tT2_3 = T2_3.subs(s)\n"
   ]
  },
  {
   "cell_type": "code",
   "execution_count": 203,
   "metadata": {
    "collapsed": true
   },
   "outputs": [],
   "source": [
    "\tT3_4 = Matrix([[             cos(q4),            -sin(q4),            0,              a3],\n",
    "\t\t       [ sin(q4)*cos(alpha3), cos(q4)*cos(alpha3), -sin(alpha3), -sin(alpha3)*d4],\n",
    "\t\t       [ sin(q4)*sin(alpha3), cos(q4)*sin(alpha3),  cos(alpha3),  cos(alpha3)*d4],\n",
    "\t\t       [                   0,                   0,            0,               1]])\n",
    "\tT3_4 = T3_4.subs(s)\n"
   ]
  },
  {
   "cell_type": "code",
   "execution_count": 204,
   "metadata": {
    "collapsed": true
   },
   "outputs": [],
   "source": [
    "\tT4_5 = Matrix([[             cos(q5),            -sin(q5),            0,              a4],\n",
    "\t\t       [ sin(q5)*cos(alpha4), cos(q5)*cos(alpha4), -sin(alpha4), -sin(alpha4)*d5],\n",
    "\t\t       [ sin(q5)*sin(alpha4), cos(q5)*sin(alpha4),  cos(alpha4),  cos(alpha4)*d5],\n",
    "\t\t       [                   0,                   0,            0,               1]])\n",
    "\tT4_5 = T4_5.subs(s)\n"
   ]
  },
  {
   "cell_type": "code",
   "execution_count": 205,
   "metadata": {},
   "outputs": [],
   "source": [
    "\tT5_6 = Matrix([[             cos(q6),            -sin(q6),            0,              a5],\n",
    "\t\t       [ sin(q6)*cos(alpha5), cos(q6)*cos(alpha5), -sin(alpha5), -sin(alpha5)*d6],\n",
    "\t\t       [ sin(q6)*sin(alpha5), cos(q6)*sin(alpha5),  cos(alpha5),  cos(alpha5)*d6],\n",
    "\t\t       [                   0,                   0,            0,               1]])\n",
    "\tT5_6 = T5_6.subs(s)\n",
    "\n",
    "\tT6_G = Matrix([[             cos(q7),            -sin(q7),            0,              a6],\n",
    "\t\t       [ sin(q7)*cos(alpha6), cos(q7)*cos(alpha6), -sin(alpha6), -sin(alpha6)*dG],\n",
    "\t\t       [ sin(q7)*sin(alpha6), cos(q7)*sin(alpha6),  cos(alpha6),  cos(alpha6)*dG],\n",
    "\t\t       [                   0,                   0,            0,               1]])\n",
    "\tT6_G = T6_G.subs(s)\n"
   ]
  },
  {
   "cell_type": "code",
   "execution_count": 206,
   "metadata": {
    "collapsed": true
   },
   "outputs": [],
   "source": [
    "\tT0_2 = simplify(T0_1 * T1_2)\n",
    "\tT0_3 = simplify(T0_2 * T2_3)\n",
    "\tT0_4 = simplify(T0_3 * T3_4)\n",
    "\tT0_5 = simplify(T0_4 * T4_5)\n",
    "\tT0_6 = simplify(T0_5 * T5_6)\n",
    "\tT0_G = simplify(T0_6 * T6_G)\n"
   ]
  },
  {
   "cell_type": "code",
   "execution_count": 211,
   "metadata": {},
   "outputs": [
    {
     "data": {
      "text/plain": [
       "Matrix([\n",
       "[         sin(q2 + q3)*cos(q1),          sin(q1)*sin(q2 + q3),        cos(q2 + q3), 0],\n",
       "[         cos(q1)*cos(q2 + q3),          sin(q1)*cos(q2 + q3),       -sin(q2 + q3), 0],\n",
       "[                     -sin(q1),                       cos(q1),                   0, 0],\n",
       "[(1.25*sin(q2) + 0.35)*cos(q1), (1.25*sin(q2) + 0.35)*sin(q1), 1.25*cos(q2) + 0.75, 1]])"
      ]
     },
     "execution_count": 211,
     "metadata": {},
     "output_type": "execute_result"
    }
   ],
   "source": [
    "T0_3.T"
   ]
  },
  {
   "cell_type": "code",
   "execution_count": 207,
   "metadata": {},
   "outputs": [
    {
     "data": {
      "text/plain": [
       "Matrix([\n",
       "[-6.0e-17, -1.0e-16,      1.0,   0],\n",
       "[ 8.0e-33,     -1.0, -1.0e-16,   0],\n",
       "[     1.0,        0,  6.0e-17,   0],\n",
       "[       0,        0,        0, 1.0]])"
      ]
     },
     "execution_count": 207,
     "metadata": {},
     "output_type": "execute_result"
    }
   ],
   "source": [
    "R_z = Matrix([[np.cos(np.pi), -np.sin(np.pi), 0, 0],[np.sin(np.pi), np.cos(np.pi),  0, 0],[0,           0,          1, 0], [0,           0,          0, 1]])\n",
    "\n",
    "R_y = Matrix([[cos(-np.pi/2), \t0,           sin(-np.pi/2), \t0],\n",
    "\t\t     [0, \t  \t1,           0, \t\t0],\n",
    "\t\t     [-sin(-np.pi/2),      0,          cos(-np.pi/2), \t0],\n",
    "\t\t     [0,           \t0,          0, \t\t\t1]])\n",
    "\n",
    "R_corr = simplify(R_z * R_y)\n",
    "R_corr.evalf(1)"
   ]
  },
  {
   "cell_type": "code",
   "execution_count": 213,
   "metadata": {},
   "outputs": [
    {
     "data": {
      "text/plain": [
       "Matrix([\n",
       "[0.0,  0.0, 1.0, 0.0],\n",
       "[  0, -1.0,   0,   0],\n",
       "[  1,    0, 0.0,   0],\n",
       "[  0,    0,   0, 1.0]])"
      ]
     },
     "execution_count": 213,
     "metadata": {},
     "output_type": "execute_result"
    }
   ],
   "source": [
    "# A cleaner version of the matrix\n",
    "\n",
    "R_corr = Matrix([\n",
    "[     0.0, 0.0, 1.0,   0.0],\n",
    "[0,     -1.0, 0,   0],\n",
    "[ 1,        0,     -0.0,   0],\n",
    "[       0,        0,        0, 1.0]])\n",
    "R_corr"
   ]
  },
  {
   "cell_type": "code",
   "execution_count": 208,
   "metadata": {},
   "outputs": [
    {
     "data": {
      "text/plain": [
       "Matrix([\n",
       "[      1.0,         0, 6.12e-17, 2.15],\n",
       "[ -7.5e-33,       1.0, 1.22e-16,    0],\n",
       "[-6.12e-17, -1.22e-16,      1.0, 1.95],\n",
       "[        0,         0,        0,  1.0]])"
      ]
     },
     "execution_count": 208,
     "metadata": {},
     "output_type": "execute_result"
    }
   ],
   "source": [
    "simplify((T0_G*R_corr).subs({q1:0,q2:0,q3:0,q4:0,q5:0,q6:0})).evalf(3)"
   ]
  },
  {
   "cell_type": "code",
   "execution_count": 198,
   "metadata": {},
   "outputs": [
    {
     "data": {
      "text/plain": [
       "Matrix([\n",
       "[0.0,  0.0, 1.0, 0.0],\n",
       "[  0, -1.0,   0,   0],\n",
       "[  1,    0, 0.0,   0],\n",
       "[  0,    0,   0, 1.0]])"
      ]
     },
     "execution_count": 198,
     "metadata": {},
     "output_type": "execute_result"
    }
   ],
   "source": [
    "R_corr"
   ]
  },
  {
   "cell_type": "code",
   "execution_count": 214,
   "metadata": {},
   "outputs": [
    {
     "data": {
      "text/plain": [
       "Matrix([\n",
       "[-(sin(q1)*sin(q4) + sin(q2 + q3)*cos(q1)*cos(q4))*sin(q5) + cos(q1)*cos(q5)*cos(q2 + q3), 1.0*((sin(q1)*sin(q4) + sin(q2 + q3)*cos(q1)*cos(q4))*cos(q5) + sin(q5)*cos(q1)*cos(q2 + q3))*sin(q6) - 1.0*(sin(q1)*cos(q4) - sin(q4)*sin(q2 + q3)*cos(q1))*cos(q6), 1.0*((sin(q1)*sin(q4) + sin(q2 + q3)*cos(q1)*cos(q4))*cos(q5) + sin(q5)*cos(q1)*cos(q2 + q3))*cos(q6) + 1.0*(sin(q1)*cos(q4) - sin(q4)*sin(q2 + q3)*cos(q1))*sin(q6), -0.303*(sin(q1)*sin(q4) + sin(q2 + q3)*cos(q1)*cos(q4))*sin(q5) + 1.0*(1.25*sin(q2) - 0.054*sin(q2 + q3) + 1.5*cos(q2 + q3) + 0.35)*cos(q1) + 0.303*cos(q1)*cos(q5)*cos(q2 + q3)],\n",
       "[-(sin(q1)*sin(q2 + q3)*cos(q4) - sin(q4)*cos(q1))*sin(q5) + sin(q1)*cos(q5)*cos(q2 + q3), 1.0*((sin(q1)*sin(q2 + q3)*cos(q4) - sin(q4)*cos(q1))*cos(q5) + sin(q1)*sin(q5)*cos(q2 + q3))*sin(q6) + 1.0*(sin(q1)*sin(q4)*sin(q2 + q3) + cos(q1)*cos(q4))*cos(q6), 1.0*((sin(q1)*sin(q2 + q3)*cos(q4) - sin(q4)*cos(q1))*cos(q5) + sin(q1)*sin(q5)*cos(q2 + q3))*cos(q6) - 1.0*(sin(q1)*sin(q4)*sin(q2 + q3) + cos(q1)*cos(q4))*sin(q6), -0.303*(sin(q1)*sin(q2 + q3)*cos(q4) - sin(q4)*cos(q1))*sin(q5) + 1.0*(1.25*sin(q2) - 0.054*sin(q2 + q3) + 1.5*cos(q2 + q3) + 0.35)*sin(q1) + 0.303*sin(q1)*cos(q5)*cos(q2 + q3)],\n",
       "[                                    -sin(q5)*cos(q4)*cos(q2 + q3) - sin(q2 + q3)*cos(q5),                                                                -1.0*(sin(q5)*sin(q2 + q3) - cos(q4)*cos(q5)*cos(q2 + q3))*sin(q6) + 1.0*sin(q4)*cos(q6)*cos(q2 + q3),                                                                -1.0*(sin(q5)*sin(q2 + q3) - cos(q4)*cos(q5)*cos(q2 + q3))*cos(q6) - 1.0*sin(q4)*sin(q6)*cos(q2 + q3),                                                   -0.303*sin(q5)*cos(q4)*cos(q2 + q3) - 0.303*sin(q2 + q3)*cos(q5) - 1.5*sin(q2 + q3) + 1.25*cos(q2) - 0.054*cos(q2 + q3) + 0.75],\n",
       "[                                                                                       0,                                                                                                                                                                    0,                                                                                                                                                                    0,                                                                                                                                                                              1.0]])"
      ]
     },
     "execution_count": 214,
     "metadata": {},
     "output_type": "execute_result"
    }
   ],
   "source": [
    "T_Total = simplify(T0_G * R_corr)\n",
    "T_Total"
   ]
  },
  {
   "cell_type": "code",
   "execution_count": 29,
   "metadata": {},
   "outputs": [],
   "source": [
    "px,py,pz = 1,2,3"
   ]
  },
  {
   "cell_type": "code",
   "execution_count": 30,
   "metadata": {
    "collapsed": true
   },
   "outputs": [],
   "source": [
    "roll, pitch, yaw = 1,1,1"
   ]
  },
  {
   "cell_type": "code",
   "execution_count": 165,
   "metadata": {},
   "outputs": [],
   "source": [
    "def Rot(roll=0,pitch=0,yaw=0,tx=0,ty=0,tz=0):\n",
    "    alpha = yaw\n",
    "    beta = pitch\n",
    "    gamma = roll\n",
    "    R = Matrix([\n",
    "    [1.0*cos(alpha)*cos(beta), -1.0*sin(alpha)*cos(gamma) + sin(beta)*sin(gamma)*cos(alpha), 1.0*sin(alpha)*sin(gamma) + sin(beta)*cos(alpha)*cos(gamma),tx],\n",
    "    [1.0*sin(alpha)*cos(beta),  sin(alpha)*sin(beta)*sin(gamma) + 1.0*cos(alpha)*cos(gamma), sin(alpha)*sin(beta)*cos(gamma) - 1.0*sin(gamma)*cos(alpha),ty],\n",
    "    [          -1.0*sin(beta),                                     1.0*sin(gamma)*cos(beta),                                    1.0*cos(beta)*cos(gamma),tz],\n",
    "        [0,0,0,1]])\n",
    "\n",
    "    return R"
   ]
  },
  {
   "cell_type": "code",
   "execution_count": 167,
   "metadata": {},
   "outputs": [
    {
     "data": {
      "text/plain": [
       "Matrix([\n",
       "[  0,    0, 1, 0],\n",
       "[  0, -1.0, 0, 0],\n",
       "[1.0,    0, 0, 0],\n",
       "[  0,    0, 0, 1]])"
      ]
     },
     "execution_count": 167,
     "metadata": {},
     "output_type": "execute_result"
    }
   ],
   "source": [
    "Rot(yaw=pi,pitch=-pi/2)"
   ]
  },
  {
   "cell_type": "code",
   "execution_count": 144,
   "metadata": {},
   "outputs": [],
   "source": [
    "Rrpy = Rot(roll=1,pitch=pitch,yaw=yaw) * R_corr"
   ]
  },
  {
   "cell_type": "code",
   "execution_count": 145,
   "metadata": {},
   "outputs": [
    {
     "data": {
      "text/plain": [
       "Matrix([\n",
       "[ 0.29, 0.072, -0.95,   0],\n",
       "[ 0.45, -0.89, 0.072,   0],\n",
       "[-0.84, -0.45, -0.29,   0],\n",
       "[    0,     0,     0, 1.0]])"
      ]
     },
     "execution_count": 145,
     "metadata": {},
     "output_type": "execute_result"
    }
   ],
   "source": [
    "Rrpy.evalf(2)"
   ]
  },
  {
   "cell_type": "code",
   "execution_count": 52,
   "metadata": {},
   "outputs": [],
   "source": [
    "nx = Rrpy[0,2]\n",
    "ny = Rrpy[1,2]\n",
    "nz = Rrpy[2,2]"
   ]
  },
  {
   "cell_type": "code",
   "execution_count": 56,
   "metadata": {},
   "outputs": [
    {
     "data": {
      "text/plain": [
       "-0.29"
      ]
     },
     "execution_count": 56,
     "metadata": {},
     "output_type": "execute_result"
    }
   ],
   "source": [
    "nz.evalf(2)"
   ]
  },
  {
   "cell_type": "code",
   "execution_count": 57,
   "metadata": {
    "collapsed": true
   },
   "outputs": [],
   "source": [
    "\t    wx = px - (d6.subs(s)+dG.subs(s))*nx\n",
    "\t    wy = py - (d6.subs(s)+dG.subs(s))*ny\n",
    "\t    wz = pz - (d6.subs(s)+dG.subs(s))*nz\n"
   ]
  },
  {
   "cell_type": "code",
   "execution_count": 61,
   "metadata": {},
   "outputs": [
    {
     "data": {
      "text/plain": [
       "3.1"
      ]
     },
     "execution_count": 61,
     "metadata": {},
     "output_type": "execute_result"
    }
   ],
   "source": [
    "wz.evalf(2)"
   ]
  },
  {
   "cell_type": "code",
   "execution_count": 85,
   "metadata": {},
   "outputs": [],
   "source": [
    "\t    #\n",
    "\t    A = sqrt(d4**2+a3**2)\t\n",
    "\t    S1 = sqrt(wx**2+wy**2) - a1\n",
    "\t    B = sqrt(S1**2 + (wz-d1)**2)\n",
    "\t    C = a2\n",
    "\t\n",
    "\t    alpha = atan2(wz-d1,S1)\n",
    "\t    beta = cosine_rule(A,C,B)\n",
    "\t    gamma = cosine_rule(B,C,A)\n",
    "\t    delta = atan2(d4,abs(a3))\n",
    "\t    theta1 = (atan2(wy,wx).subs(s)).evalf(3)\n",
    "\t    theta2 = ((pi/2 - beta - alpha).subs(s)).evalf(3)\n",
    "\t    theta3 = (-(gamma - delta).subs(s)).evalf(3)\n"
   ]
  },
  {
   "cell_type": "code",
   "execution_count": 100,
   "metadata": {},
   "outputs": [
    {
     "data": {
      "text/plain": [
       "Matrix([\n",
       "[ 0.29, 0.072, -0.95,   0],\n",
       "[ 0.45, -0.89, 0.072,   0],\n",
       "[-0.84, -0.45, -0.29,   0],\n",
       "[    0,     0,     0, 1.0]])"
      ]
     },
     "execution_count": 100,
     "metadata": {},
     "output_type": "execute_result"
    }
   ],
   "source": [
    "Rrpy.evalf(2)"
   ]
  },
  {
   "cell_type": "code",
   "execution_count": 209,
   "metadata": {},
   "outputs": [],
   "source": [
    "R3_G = ((T0_3.subs({q1:theta1,q2:theta2,q3:theta3})).T[:3,:3]*Rrpy[:3,:3]).evalf(2)"
   ]
  },
  {
   "cell_type": "code",
   "execution_count": 102,
   "metadata": {},
   "outputs": [],
   "source": [
    "R3_G1 = simplify(T3_4*T4_5*T5_6*T6_G)"
   ]
  },
  {
   "cell_type": "code",
   "execution_count": 106,
   "metadata": {},
   "outputs": [
    {
     "data": {
      "text/plain": [
       "Matrix([\n",
       "[-sin(q4)*sin(q6) + cos(q4)*cos(q5)*cos(q6), -sin(q4)*cos(q6) - sin(q6)*cos(q4)*cos(q5), -sin(q5)*cos(q4), -0.303*sin(q5)*cos(q4) - 0.054],\n",
       "[                           sin(q5)*cos(q6),                           -sin(q5)*sin(q6),          cos(q5),          0.303*cos(q5) + 0.125],\n",
       "[-sin(q4)*cos(q5)*cos(q6) - sin(q6)*cos(q4),  sin(q4)*sin(q6)*cos(q5) - cos(q4)*cos(q6),  sin(q4)*sin(q5),          0.303*sin(q4)*sin(q5)],\n",
       "[                                         0,                                          0,                0,                              1]])"
      ]
     },
     "execution_count": 106,
     "metadata": {},
     "output_type": "execute_result"
    }
   ],
   "source": [
    "R3_G1"
   ]
  },
  {
   "cell_type": "code",
   "execution_count": 111,
   "metadata": {},
   "outputs": [
    {
     "data": {
      "text/plain": [
       "sin(q4)*sin(q5)"
      ]
     },
     "execution_count": 111,
     "metadata": {},
     "output_type": "execute_result"
    }
   ],
   "source": [
    "R3_G1[2,2]"
   ]
  },
  {
   "cell_type": "code",
   "execution_count": 113,
   "metadata": {},
   "outputs": [
    {
     "data": {
      "text/plain": [
       "sin(q5)*cos(q4)"
      ]
     },
     "execution_count": 113,
     "metadata": {},
     "output_type": "execute_result"
    }
   ],
   "source": [
    "-R3_G1[0,2]"
   ]
  },
  {
   "cell_type": "code",
   "execution_count": 116,
   "metadata": {},
   "outputs": [],
   "source": [
    "sin_q4 = R3_G[2, 2]\n",
    "cos_q4 =  -R3_G[0, 2]\n",
    "  \n",
    "sin_q5 = sqrt(R3_G[0, 2]**2 + R3_G[2, 2]**2) \n",
    "cos_q5 = R3_G[1, 2]\n",
    "    \n",
    "sin_q6 = -R3_G[1, 1]\n",
    "cos_q6 = R3_G[1, 0] \n",
    "  \n",
    "q4 = atan2(sin_q4, cos_q4)\n",
    "q5 = atan2(sin_q5, cos_q5)\n",
    "q6 = atan2(sin_q6, cos_q6)"
   ]
  },
  {
   "cell_type": "code",
   "execution_count": 120,
   "metadata": {},
   "outputs": [
    {
     "data": {
      "text/plain": [
       "3.1 - 1.2*I"
      ]
     },
     "execution_count": 120,
     "metadata": {},
     "output_type": "execute_result"
    }
   ],
   "source": []
  },
  {
   "cell_type": "code",
   "execution_count": null,
   "metadata": {
    "collapsed": true
   },
   "outputs": [],
   "source": []
  }
 ],
 "metadata": {
  "kernelspec": {
   "display_name": "RoboND",
   "language": "python",
   "name": "robond"
  },
  "language_info": {
   "codemirror_mode": {
    "name": "ipython",
    "version": 3
   },
   "file_extension": ".py",
   "mimetype": "text/x-python",
   "name": "python",
   "nbconvert_exporter": "python",
   "pygments_lexer": "ipython3",
   "version": "3.5.2"
  },
  "widgets": {
   "state": {},
   "version": "1.1.2"
  }
 },
 "nbformat": 4,
 "nbformat_minor": 2
}
